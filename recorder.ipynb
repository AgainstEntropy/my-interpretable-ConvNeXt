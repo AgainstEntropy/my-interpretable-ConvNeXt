{
 "cells": [
  {
   "cell_type": "code",
   "execution_count": 6,
   "metadata": {
    "collapsed": true,
    "pycharm": {
     "name": "#%%\n"
    }
   },
   "outputs": [],
   "source": [
    "import os\n",
    "from openpyxl import load_workbook"
   ]
  },
  {
   "cell_type": "code",
   "execution_count": 51,
   "outputs": [
    {
     "name": "stdout",
     "output_type": "stream",
     "text": [
      "['Sheet1']\n"
     ]
    },
    {
     "data": {
      "text/plain": "<Worksheet \"Sheet1\">"
     },
     "execution_count": 51,
     "metadata": {},
     "output_type": "execute_result"
    }
   ],
   "source": [
    "xlsx_path = '/home/wangyh/01-Projects/03-my/records/train_paras.xlsx'\n",
    "wb = load_workbook(xlsx_path)\n",
    "print(wb.sheetnames)\n",
    "ws = wb['Sheet1']\n",
    "ws"
   ],
   "metadata": {
    "collapsed": false,
    "pycharm": {
     "name": "#%%\n"
    }
   }
  },
  {
   "cell_type": "code",
   "execution_count": 49,
   "outputs": [],
   "source": [
    "ws['E2'].value"
   ],
   "metadata": {
    "collapsed": false,
    "pycharm": {
     "name": "#%%\n"
    }
   }
  },
  {
   "cell_type": "code",
   "execution_count": 21,
   "outputs": [],
   "source": [
    "for row in range(1, 2):\n",
    "    ws.append([0, 2, 'a', 1e-5, 'relu'])"
   ],
   "metadata": {
    "collapsed": false,
    "pycharm": {
     "name": "#%%\n"
    }
   }
  },
  {
   "cell_type": "code",
   "execution_count": 77,
   "outputs": [
    {
     "data": {
      "text/plain": "['my_convnext', 7, 4, 256, 'AdamW', 0.00012, 'cosine_warm', 20, 0.001]"
     },
     "execution_count": 77,
     "metadata": {},
     "output_type": "execute_result"
    }
   ],
   "source": [
    "data = {\n",
    "    'type': 'my_convnext',\n",
    "    'kernel_size': 7,\n",
    "    'depths': sum((1, 2, 1)),\n",
    "    'batch_size': 256,\n",
    "    'optim': 'AdamW',\n",
    "    'lr': 1.2e-4,\n",
    "    'schedule': 'cosine_warm',\n",
    "    'cos_T': 20,\n",
    "    'weight_decay': 1e-3,\n",
    "}\n",
    "list(data.values())"
   ],
   "metadata": {
    "collapsed": false,
    "pycharm": {
     "name": "#%%\n"
    }
   }
  },
  {
   "cell_type": "code",
   "execution_count": 79,
   "outputs": [
    {
     "name": "stdout",
     "output_type": "stream",
     "text": [
      "<Cell 'Sheet1'.A2>\n",
      "<Cell 'Sheet1'.B2>\n",
      "<Cell 'Sheet1'.C2>\n",
      "<Cell 'Sheet1'.D2>\n",
      "<Cell 'Sheet1'.E2>\n",
      "<Cell 'Sheet1'.F2>\n",
      "<Cell 'Sheet1'.G2>\n",
      "<Cell 'Sheet1'.H2>\n",
      "<Cell 'Sheet1'.I2>\n"
     ]
    }
   ],
   "source": [
    "ws.insert_rows(2)\n",
    "for col in range(len(data)):\n",
    "    _ = ws.cell(column=col + 1, row=2, value=list(data.values())[col])\n",
    "    print(_)"
   ],
   "metadata": {
    "collapsed": false,
    "pycharm": {
     "name": "#%%\n"
    }
   }
  },
  {
   "cell_type": "code",
   "execution_count": 9,
   "outputs": [
    {
     "data": {
      "text/plain": "[('model type',\n  'kernel size',\n  'total depth',\n  'batch size',\n  'optimizer',\n  'learning rate',\n  'schedule',\n  'cos T',\n  'weight decay'),\n ('my_convnext', 7, 4, 256, 'AdamW', 0.00012, 'cosine_warm', 20, 0.001),\n ('simple_conv', 9, 4, 256, 'AdamW', 0.00012, 'cosine_warm', 20, 0.001),\n ('simple_conv', 9, 3, 512, 'AdamW', 0.00012, 'cosine_warm', 20, 0.001)]"
     },
     "execution_count": 9,
     "metadata": {},
     "output_type": "execute_result"
    }
   ],
   "source": [
    "list(ws.values)"
   ],
   "metadata": {
    "collapsed": false,
    "pycharm": {
     "name": "#%%\n"
    }
   }
  },
  {
   "cell_type": "code",
   "execution_count": 81,
   "outputs": [],
   "source": [
    "wb.save(filename='/home/wangyh/01-Projects/03-my/records/train_paras.xlsx')"
   ],
   "metadata": {
    "collapsed": false,
    "pycharm": {
     "name": "#%%\n"
    }
   }
  },
  {
   "cell_type": "code",
   "execution_count": null,
   "outputs": [],
   "source": [
    "# model type\n",
    "# kernel size\n",
    "# total depth\n",
    "# batch size\n",
    "# learning rate\n",
    "# weight decay\n",
    "# optimizer\n",
    "# schedule\n",
    "# cos T\n",
    "# total epochs\n",
    "# final val acc"
   ],
   "metadata": {
    "collapsed": false,
    "pycharm": {
     "name": "#%%\n"
    }
   }
  },
  {
   "cell_type": "code",
   "execution_count": 53,
   "outputs": [],
   "source": [
    "xlsx_path = '/home/wangyh/01-Projects/03-my/records/train_paras.xlsx'\n",
    "wb = load_workbook(xlsx_path)\n",
    "ws = wb['Sheet1']\n",
    "\n",
    "for root, dirs, files in os.walk(\"/home/wangyh/01-Projects/03-my/newruns/simple_conv\", topdown=False):\n",
    "    for file_name in files:\n",
    "        if file_name == \"para.txt\":\n",
    "            # init\n",
    "            acc = 0\n",
    "            para = {}\n",
    "            para_list = []\n",
    "            file_path = os.path.join(root, file_name)\n",
    "            # traversal\n",
    "            with open(file_path) as f:\n",
    "                for line in f.readlines():\n",
    "                    if \":\" in line:\n",
    "                        k, v = line.split(\":\")[:2]\n",
    "                        para[k.strip()] = v.strip()\n",
    "            # acquire acc\n",
    "            for pt_file in os.listdir(root):\n",
    "                if pt_file.endswith(\".pt\"):\n",
    "                    acc = pt_file.split(\"_\")[0]\n",
    "                    break\n",
    "            else:\n",
    "                acc = 0\n",
    "            para_list = [\n",
    "                para[\"type\"],\n",
    "                para[\"kernel_size\"],\n",
    "                para[\"depths\"],\n",
    "                para[\"batch_size\"],\n",
    "                para[\"lr\"],\n",
    "                para[\"weight_decay\"],\n",
    "                para[\"optim\"],\n",
    "                para[\"schedule\"],\n",
    "                para[\"cos_T\"],\n",
    "                para[\"epochs\"],\n",
    "                acc,\n",
    "            ]\n",
    "            ws.append(para_list)\n",
    "            wb.save(filename=xlsx_path)\n"
   ],
   "metadata": {
    "collapsed": false,
    "pycharm": {
     "name": "#%%\n"
    }
   }
  }
 ],
 "metadata": {
  "kernelspec": {
   "display_name": "Python 3",
   "language": "python",
   "name": "python3"
  },
  "language_info": {
   "codemirror_mode": {
    "name": "ipython",
    "version": 2
   },
   "file_extension": ".py",
   "mimetype": "text/x-python",
   "name": "python",
   "nbconvert_exporter": "python",
   "pygments_lexer": "ipython2",
   "version": "2.7.6"
  }
 },
 "nbformat": 4,
 "nbformat_minor": 0
}