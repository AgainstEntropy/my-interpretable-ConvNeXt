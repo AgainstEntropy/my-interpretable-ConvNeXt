{
 "cells": [
  {
   "cell_type": "code",
   "execution_count": 1,
   "outputs": [
    {
     "data": {
      "text/plain": "[0.05, 0.05]"
     },
     "execution_count": 1,
     "metadata": {},
     "output_type": "execute_result"
    }
   ],
   "source": [
    "s = '0.05,0.05'\n",
    "list(map(float, s.split(',')))"
   ],
   "metadata": {
    "collapsed": false,
    "pycharm": {
     "name": "#%%\n"
    }
   }
  },
  {
   "cell_type": "code",
   "execution_count": 1,
   "outputs": [],
   "source": [
    "import numpy as np"
   ],
   "metadata": {
    "collapsed": false,
    "pycharm": {
     "name": "#%%\n"
    }
   }
  },
  {
   "cell_type": "code",
   "execution_count": 9,
   "outputs": [
    {
     "data": {
      "text/plain": "(array([[0.43080198, 0.61076721],\n        [0.8872531 , 0.14902532],\n        [0.36969174, 0.9123428 ]]),\n array([0.09797866, 4.98647157, 3.98737275]))"
     },
     "execution_count": 9,
     "metadata": {},
     "output_type": "execute_result"
    }
   ],
   "source": [
    "points = np.random.rand(3, 2)\n",
    "edge_lengths = np.random.rand(3) * 10\n",
    "points, edge_lengths"
   ],
   "metadata": {
    "collapsed": false,
    "pycharm": {
     "name": "#%%\n"
    }
   }
  },
  {
   "cell_type": "code",
   "execution_count": 10,
   "outputs": [
    {
     "name": "stdout",
     "output_type": "stream",
     "text": [
      "[0.43080198 0.61076721] 0.09797865613867085\n",
      "[0.8872531  0.14902532] 4.986471570121418\n",
      "[0.36969174 0.9123428 ] 3.9873727541394253\n"
     ]
    }
   ],
   "source": [
    "for p, e in zip(points, edge_lengths):\n",
    "    print(p, e)"
   ],
   "metadata": {
    "collapsed": false,
    "pycharm": {
     "name": "#%%\n"
    }
   }
  },
  {
   "cell_type": "code",
   "execution_count": 19,
   "outputs": [
    {
     "ename": "TypeError",
     "evalue": "type numpy.ndarray doesn't define __round__ method",
     "output_type": "error",
     "traceback": [
      "\u001B[1;31m---------------------------------------------------------------------------\u001B[0m",
      "\u001B[1;31mTypeError\u001B[0m                                 Traceback (most recent call last)",
      "\u001B[1;32mC:\\Users\\AGAINS~1\\AppData\\Local\\Temp/ipykernel_37264/1967885828.py\u001B[0m in \u001B[0;36m<module>\u001B[1;34m\u001B[0m\n\u001B[1;32m----> 1\u001B[1;33m \u001B[0ma\u001B[0m \u001B[1;33m=\u001B[0m \u001B[0mround\u001B[0m\u001B[1;33m(\u001B[0m\u001B[0medge_lengths\u001B[0m\u001B[1;33m)\u001B[0m\u001B[1;33m\u001B[0m\u001B[1;33m\u001B[0m\u001B[0m\n\u001B[0m\u001B[0;32m      2\u001B[0m \u001B[0mprint\u001B[0m\u001B[1;33m(\u001B[0m\u001B[0ma\u001B[0m\u001B[1;33m)\u001B[0m\u001B[1;33m\u001B[0m\u001B[1;33m\u001B[0m\u001B[0m\n",
      "\u001B[1;31mTypeError\u001B[0m: type numpy.ndarray doesn't define __round__ method"
     ]
    }
   ],
   "source": [
    "a = round(edge_lengths)\n",
    "print(a)"
   ],
   "metadata": {
    "collapsed": false,
    "pycharm": {
     "name": "#%%\n"
    }
   }
  },
  {
   "cell_type": "code",
   "execution_count": 21,
   "outputs": [
    {
     "data": {
      "text/plain": "-1"
     },
     "execution_count": 21,
     "metadata": {},
     "output_type": "execute_result"
    }
   ],
   "source": [
    "round(-1.011)"
   ],
   "metadata": {
    "collapsed": false,
    "pycharm": {
     "name": "#%%\n"
    }
   }
  },
  {
   "cell_type": "code",
   "execution_count": 1,
   "outputs": [],
   "source": [
    "import yaml"
   ],
   "metadata": {
    "collapsed": false,
    "pycharm": {
     "name": "#%%\n"
    }
   }
  },
  {
   "cell_type": "code",
   "execution_count": 4,
   "outputs": [],
   "source": [
    "cfg_path = 'configs/default.yaml'\n",
    "with open(cfg_path, 'r') as stream:\n",
    "    cfg = yaml.load(stream, Loader=yaml.FullLoader)"
   ],
   "metadata": {
    "collapsed": false,
    "pycharm": {
     "name": "#%%\n"
    }
   }
  },
  {
   "cell_type": "code",
   "execution_count": 5,
   "outputs": [],
   "source": [
    "model_cfgs = cfg['model_configs']\n",
    "loader_kwargs = cfg['loader_kwargs']\n",
    "train_cfgs = cfg['train_configs']\n",
    "distributed_cfgs = cfg['distributed_configs']"
   ],
   "metadata": {
    "collapsed": false,
    "pycharm": {
     "name": "#%%\n"
    }
   }
  },
  {
   "cell_type": "code",
   "execution_count": 8,
   "outputs": [
    {
     "data": {
      "text/plain": "{'distributed': False, 'world_size': 2, 'local_rank': 0}"
     },
     "execution_count": 8,
     "metadata": {},
     "output_type": "execute_result"
    }
   ],
   "source": [
    "cfg['distributed_configs']"
   ],
   "metadata": {
    "collapsed": false,
    "pycharm": {
     "name": "#%%\n"
    }
   }
  },
  {
   "cell_type": "code",
   "execution_count": 7,
   "outputs": [],
   "source": [
    "distributed_cfgs['world_size'] = 2"
   ],
   "metadata": {
    "collapsed": false,
    "pycharm": {
     "name": "#%%\n"
    }
   }
  },
  {
   "cell_type": "code",
   "execution_count": 1,
   "outputs": [],
   "source": [
    "import yaml\n",
    "import os"
   ],
   "metadata": {
    "collapsed": false,
    "pycharm": {
     "name": "#%%\n"
    }
   }
  },
  {
   "cell_type": "code",
   "execution_count": 26,
   "outputs": [
    {
     "data": {
      "text/plain": "{'model_configs': {'type': 'simple_conv',\n  'kernel_size': 7,\n  'depths': [1, 2, 1],\n  'dims': [4, 8, 16],\n  'act': 'relu',\n  'norm': 'BN'},\n 'dataset_configs': {'mean': 0.1094, 'std': 0.366, 'fig_resize': 64},\n 'loader_kwargs': {'num_workers': 4,\n  'pin_memory': True,\n  'prefetch_factor': 4,\n  'persistent_workers': False},\n 'train_configs': {'dataset_dir': '/home/wangyh/01-Projects/03-my/Datasets/polygons_unfilled_64_3',\n  'resume': False,\n  'resume_path': None,\n  'mode': 'train',\n  'batch_size': 512,\n  'seed': 1026,\n  'device': 'cuda:2',\n  'amp': True},\n 'optim_kwargs': {'optim_type': 'AdamW',\n  'lr': 0.00012,\n  'momentum': 0.9,\n  'weight_decay': 0.005},\n 'schedule_configs': {'schedule_type': 'cosine_warm',\n  'max_epoch': 90,\n  'cos_T': 25,\n  'cos_mul': 2,\n  'cos_iters': 2},\n 'distributed_configs': {'distributed': False,\n  'gpu_ids': 0,\n  'world_size': 1,\n  'local_rank': 0,\n  'port': 4250},\n 'log_configs': {'log_dir': 'test_runs2',\n  'save_epoch_interval': 5,\n  'snapshot_interval': 100}}"
     },
     "execution_count": 26,
     "metadata": {},
     "output_type": "execute_result"
    }
   ],
   "source": [
    "yaml_path = './configs/default.yaml'\n",
    "with open(yaml_path, 'r') as stream:\n",
    "    config = yaml.load(stream, Loader=yaml.FullLoader)\n",
    "config"
   ],
   "metadata": {
    "collapsed": false,
    "pycharm": {
     "name": "#%%\n"
    }
   }
  },
  {
   "cell_type": "code",
   "execution_count": 27,
   "outputs": [
    {
     "data": {
      "text/plain": "'test_runs2'"
     },
     "execution_count": 27,
     "metadata": {},
     "output_type": "execute_result"
    }
   ],
   "source": [
    "log_cfgs = config['log_configs']\n",
    "log_cfgs['log_dir']"
   ],
   "metadata": {
    "collapsed": false,
    "pycharm": {
     "name": "#%%\n"
    }
   }
  },
  {
   "cell_type": "code",
   "execution_count": 28,
   "outputs": [],
   "source": [
    "os.makedirs(log_cfgs['log_dir'], exist_ok=True)"
   ],
   "metadata": {
    "collapsed": false,
    "pycharm": {
     "name": "#%%\n"
    }
   }
  },
  {
   "cell_type": "code",
   "execution_count": 2,
   "outputs": [
    {
     "data": {
      "text/plain": "('/home/wangyh/01-Projects/03-my', 'Datasets')"
     },
     "execution_count": 2,
     "metadata": {},
     "output_type": "execute_result"
    }
   ],
   "source": [
    "os.path.split('/home/wangyh/01-Projects/03-my/Datasets')"
   ],
   "metadata": {
    "collapsed": false,
    "pycharm": {
     "name": "#%%\n"
    }
   }
  },
  {
   "cell_type": "code",
   "execution_count": 3,
   "outputs": [],
   "source": [
    "from prettytable import PrettyTable"
   ],
   "metadata": {
    "collapsed": false,
    "pycharm": {
     "name": "#%%\n"
    }
   }
  },
  {
   "cell_type": "code",
   "execution_count": 4,
   "outputs": [],
   "source": [
    "table = PrettyTable()"
   ],
   "metadata": {
    "collapsed": false,
    "pycharm": {
     "name": "#%%\n"
    }
   }
  },
  {
   "cell_type": "code",
   "execution_count": 5,
   "outputs": [
    {
     "name": "stdout",
     "output_type": "stream",
     "text": [
      "+---------+----------+----------+------------+\n",
      "| Field 1 | Field 2  | Field 3  |  Field 4   |\n",
      "+---------+----------+----------+------------+\n",
      "|    1    | server01 | 服务器01 | 172.16.0.1 |\n",
      "|    2    | server02 | 服务器02 | 172.16.0.2 |\n",
      "|    3    | server03 | 服务器03 | 172.16.0.3 |\n",
      "|    4    | server04 | 服务器04 | 172.16.0.4 |\n",
      "|    5    | server05 | 服务器05 | 172.16.0.5 |\n",
      "|    6    | server06 | 服务器06 | 172.16.0.6 |\n",
      "|    7    | server07 | 服务器07 | 172.16.0.7 |\n",
      "|    8    | server08 | 服务器08 | 172.16.0.8 |\n",
      "|    9    | server09 | 服务器09 | 172.16.0.9 |\n",
      "+---------+----------+----------+------------+\n"
     ]
    }
   ],
   "source": [
    "table.add_row(['1','server01','服务器01','172.16.0.1'])\n",
    "table.add_row(['2','server02','服务器02','172.16.0.2'])\n",
    "table.add_row(['3','server03','服务器03','172.16.0.3'])\n",
    "table.add_row(['4','server04','服务器04','172.16.0.4'])\n",
    "table.add_row(['5','server05','服务器05','172.16.0.5'])\n",
    "table.add_row(['6','server06','服务器06','172.16.0.6'])\n",
    "table.add_row(['7','server07','服务器07','172.16.0.7'])\n",
    "table.add_row(['8','server08','服务器08','172.16.0.8'])\n",
    "table.add_row(['9','server09','服务器09','172.16.0.9'])\n",
    "print(table)"
   ],
   "metadata": {
    "collapsed": false,
    "pycharm": {
     "name": "#%%\n"
    }
   }
  },
  {
   "cell_type": "code",
   "execution_count": null,
   "outputs": [],
   "source": [],
   "metadata": {
    "collapsed": false,
    "pycharm": {
     "name": "#%%\n"
    }
   }
  },
  {
   "cell_type": "code",
   "execution_count": 14,
   "outputs": [
    {
     "data": {
      "text/plain": "'|'"
     },
     "execution_count": 14,
     "metadata": {},
     "output_type": "execute_result"
    }
   ],
   "source": [
    "table.vertical_char"
   ],
   "metadata": {
    "collapsed": false,
    "pycharm": {
     "name": "#%%\n"
    }
   }
  }
 ],
 "metadata": {
  "kernelspec": {
   "display_name": "Python 3",
   "language": "python",
   "name": "python3"
  },
  "language_info": {
   "codemirror_mode": {
    "name": "ipython",
    "version": 2
   },
   "file_extension": ".py",
   "mimetype": "text/x-python",
   "name": "python",
   "nbconvert_exporter": "python",
   "pygments_lexer": "ipython2",
   "version": "2.7.6"
  }
 },
 "nbformat": 4,
 "nbformat_minor": 0
}