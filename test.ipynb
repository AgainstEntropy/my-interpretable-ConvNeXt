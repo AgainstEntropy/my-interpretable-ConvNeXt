{
 "cells": [
  {
   "cell_type": "code",
   "execution_count": 1,
   "metadata": {
    "collapsed": true
   },
   "outputs": [],
   "source": [
    "import os"
   ]
  },
  {
   "cell_type": "code",
   "execution_count": 2,
   "outputs": [
    {
     "data": {
      "text/plain": "['initrd.img',\n 'srv',\n 'usr',\n 'root',\n 'media',\n 'lib',\n 'lost+found',\n 'boot',\n 'sys',\n 'var',\n 'opt',\n 'proc',\n 'home',\n 'bin',\n 'vmlinuz.old',\n 'dev',\n 'mnt',\n 'run',\n 'sbin',\n 'lib64',\n 'initrd.img.old',\n 'data',\n 'snap',\n 'vmlinuz',\n 'tmp',\n 'etc']"
     },
     "execution_count": 2,
     "metadata": {},
     "output_type": "execute_result"
    }
   ],
   "source": [
    "os.listdir(\"/\")"
   ],
   "metadata": {
    "collapsed": false,
    "pycharm": {
     "name": "#%%\n"
    }
   }
  }
 ],
 "metadata": {
  "kernelspec": {
   "display_name": "Python 3",
   "language": "python",
   "name": "python3"
  },
  "language_info": {
   "codemirror_mode": {
    "name": "ipython",
    "version": 2
   },
   "file_extension": ".py",
   "mimetype": "text/x-python",
   "name": "python",
   "nbconvert_exporter": "python",
   "pygments_lexer": "ipython2",
   "version": "2.7.6"
  }
 },
 "nbformat": 4,
 "nbformat_minor": 0
}